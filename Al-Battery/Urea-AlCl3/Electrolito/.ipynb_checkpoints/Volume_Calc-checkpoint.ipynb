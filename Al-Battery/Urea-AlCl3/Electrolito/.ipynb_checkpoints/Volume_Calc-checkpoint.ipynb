{
 "cells": [
  {
   "cell_type": "code",
   "execution_count": 2,
   "id": "965879af-2e9e-4f1a-896b-6e6bad630c24",
   "metadata": {},
   "outputs": [],
   "source": [
    "import numpy as np"
   ]
  },
  {
   "cell_type": "code",
   "execution_count": 3,
   "id": "0dc622b6-573e-4907-b29c-1a84cbbc8f3b",
   "metadata": {},
   "outputs": [],
   "source": [
    "avogadro = 6.02214076 * np.power(10, 23)\n",
    "\n",
    "AlCl3_density = 2.48 #g/cm³\n",
    "AlCl3_molar = 133.34 #g/mol\n",
    "\n",
    "Urea_density = 1.32 #g/cm³\n",
    "Urea_molar = 60.06 #g/mol"
   ]
  },
  {
   "cell_type": "code",
   "execution_count": 14,
   "id": "ccb4428d-56db-4501-9af2-4351fb0c2536",
   "metadata": {},
   "outputs": [],
   "source": [
    "AlCl3_volume = (AlCl3_molar / AlCl3_density) / avogadro * np.power(10, 24)\n",
    "Urea_volume = (Urea_molar / Urea_density) / avogadro * np.power(10, 24)"
   ]
  },
  {
   "cell_type": "code",
   "execution_count": 15,
   "id": "e0c43d69-1e1d-4a10-ba2b-1892e723f38e",
   "metadata": {},
   "outputs": [],
   "source": [
    "Total_volume = (9 * AlCl3_volume) + (7 * Urea_volume)\n",
    "lattice = np.cbrt(Total_volume)"
   ]
  },
  {
   "cell_type": "code",
   "execution_count": 17,
   "id": "809522cb-67c7-4776-9e3a-7384fa03514b",
   "metadata": {},
   "outputs": [
    {
     "data": {
      "text/plain": [
       "np.float64(11.003878832174365)"
      ]
     },
     "execution_count": 17,
     "metadata": {},
     "output_type": "execute_result"
    }
   ],
   "source": [
    "lattice"
   ]
  },
  {
   "cell_type": "code",
   "execution_count": null,
   "id": "75e0237b-92e4-40d4-bb2f-8b16858ca9b3",
   "metadata": {},
   "outputs": [],
   "source": []
  }
 ],
 "metadata": {
  "kernelspec": {
   "display_name": "Python 3 (ipykernel)",
   "language": "python",
   "name": "python3"
  },
  "language_info": {
   "codemirror_mode": {
    "name": "ipython",
    "version": 3
   },
   "file_extension": ".py",
   "mimetype": "text/x-python",
   "name": "python",
   "nbconvert_exporter": "python",
   "pygments_lexer": "ipython3",
   "version": "3.12.7"
  }
 },
 "nbformat": 4,
 "nbformat_minor": 5
}
