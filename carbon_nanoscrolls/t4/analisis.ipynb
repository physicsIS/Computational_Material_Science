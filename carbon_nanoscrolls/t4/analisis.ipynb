{
 "cells": [
  {
   "cell_type": "code",
   "execution_count": 176,
   "id": "0d07cceb",
   "metadata": {},
   "outputs": [],
   "source": [
    "import numpy as np\n",
    "from ase.io import read\n",
    "import matplotlib.pyplot as plt\n",
    "from funciones import get_molecules"
   ]
  },
  {
   "cell_type": "markdown",
   "id": "645224f1",
   "metadata": {},
   "source": [
    "# Reading the original file, with all the frames of relaxation"
   ]
  },
  {
   "cell_type": "code",
   "execution_count": 177,
   "id": "a7e2bddb",
   "metadata": {},
   "outputs": [
    {
     "data": {
      "text/plain": [
       "687"
      ]
     },
     "execution_count": 177,
     "metadata": {},
     "output_type": "execute_result"
    }
   ],
   "source": [
    "frames = read(\"pw1.out\", index=\":\")\n",
    "len(frames)"
   ]
  },
  {
   "cell_type": "markdown",
   "id": "a4707d57",
   "metadata": {},
   "source": [
    "# Getting the indeces of the molecules in the file.\n",
    "\n",
    "The indeces never change, so it is only needed to get the indeces of one frame"
   ]
  },
  {
   "cell_type": "code",
   "execution_count": 178,
   "id": "fb8813ec",
   "metadata": {},
   "outputs": [
    {
     "data": {
      "text/plain": [
       "16"
      ]
     },
     "execution_count": 178,
     "metadata": {},
     "output_type": "execute_result"
    }
   ],
   "source": [
    "sol = get_molecules([\"alcl3_opt.xyz\",\"1-Ethyl-3-methylimidazolium_opt.xyz\"], \"pw1.out\")\n",
    "len(sol) # number of molecules in the file \"pw1.out\""
   ]
  },
  {
   "cell_type": "markdown",
   "id": "84637313",
   "metadata": {},
   "source": [
    "# Getting the center of masses of every molecule in every frame"
   ]
  },
  {
   "cell_type": "code",
   "execution_count": 179,
   "id": "4b26d3a9",
   "metadata": {},
   "outputs": [],
   "source": [
    "frames_pos_data = np.empty(len(frames), dtype=list)\n",
    "for i in range(len(frames)): # loop for frames in the quantum espresso file\n",
    "\tcenter_of_masses = []\n",
    "\tfor j in range(len(sol)):\n",
    "\t\tcenter_of_masses.append(frames[i].get_center_of_mass(scaled=False,indices= sol[j].idx_list)) # Collecting the center of masses of every molecule in the i frame\n",
    "\n",
    "\tframes_pos_data[i] = center_of_masses # Once it's finished the loop for molecules, the variable \"center_of_masses\" has the center of mass of every molecule in the i frame, so \n",
    "\t\t\t\t\t\t\t\t\t\t# it will be storaged inside the list \"frames_pos_data\" in the corresponding index"
   ]
  },
  {
   "cell_type": "markdown",
   "id": "33b34886",
   "metadata": {},
   "source": [
    "## Example: How to get the center of masses of the molecules in frame cero"
   ]
  },
  {
   "cell_type": "code",
   "execution_count": 180,
   "id": "6c9a2a2c",
   "metadata": {},
   "outputs": [
    {
     "data": {
      "text/plain": [
       "[array([ 4.16288287, 10.18861236,  2.0208343 ]),\n",
       " array([10.18575708, 13.03608404,  3.56249876]),\n",
       " array([16.07289281,  9.71448288,  2.83325217]),\n",
       " array([5.35341414, 9.29302549, 3.66774788]),\n",
       " array([14.43985411, 11.59458826,  2.79307977]),\n",
       " array([15.29117082,  4.16074363,  5.35666806]),\n",
       " array([7.93871678, 6.56344432, 3.53328788]),\n",
       " array([ 8.20381214, 13.64510408,  5.52380239]),\n",
       " array([13.80254545,  2.86025862,  1.94964902]),\n",
       " array([8.40000395, 1.29230339, 4.23040053]),\n",
       " array([13.93671922, 15.27663519,  1.65429853]),\n",
       " array([ 3.69665049, 14.49873854,  1.55326268]),\n",
       " array([ 1.32362808, 10.5407118 ,  4.0242334 ]),\n",
       " array([15.39184352, 13.11914078,  5.51226666]),\n",
       " array([13.53454489,  7.0270404 ,  3.54951353]),\n",
       " array([3.49433959, 5.08250682, 5.48393925])]"
      ]
     },
     "execution_count": 180,
     "metadata": {},
     "output_type": "execute_result"
    }
   ],
   "source": [
    "frames_pos_data[0]"
   ]
  },
  {
   "cell_type": "markdown",
   "id": "e1bacfdb",
   "metadata": {},
   "source": [
    "# The center of mass of the mixture in the final frame"
   ]
  },
  {
   "cell_type": "code",
   "execution_count": 181,
   "id": "f2676b09",
   "metadata": {},
   "outputs": [],
   "source": [
    "all_center_of_mass = frames[-1].get_center_of_mass(scaled=False)"
   ]
  },
  {
   "cell_type": "markdown",
   "id": "0ce40d7b",
   "metadata": {},
   "source": [
    "## Moving the reference from the cell axis to the axis in the center of mass of the final configuration of the mixture"
   ]
  },
  {
   "cell_type": "code",
   "execution_count": 182,
   "id": "5608a1a0",
   "metadata": {},
   "outputs": [],
   "source": [
    "frames_pos_data_T = np.empty(len(frames), dtype=list)\n",
    "for i in range(len(frames)):\n",
    "\tframes_pos_data_T[i] = frames_pos_data[i] - all_center_of_mass # Now the origin is moved to the center of mass of the mixture in the final configuration."
   ]
  },
  {
   "cell_type": "code",
   "execution_count": 183,
   "id": "13ef439d",
   "metadata": {},
   "outputs": [
    {
     "data": {
      "text/plain": [
       "687"
      ]
     },
     "execution_count": 183,
     "metadata": {},
     "output_type": "execute_result"
    }
   ],
   "source": [
    "len(frames_pos_data_T)"
   ]
  },
  {
   "cell_type": "markdown",
   "id": "f7cf0b05",
   "metadata": {},
   "source": [
    "# Calculating the radial distance from the center of mass of the mixture to the each molecule"
   ]
  },
  {
   "cell_type": "code",
   "execution_count": 184,
   "id": "4b16dfbd",
   "metadata": {},
   "outputs": [],
   "source": [
    "frames_radius_distance = np.empty(len(frames), dtype=list)\n",
    "for i in range(len(frames)): # loop for every frame\n",
    "\taux = np.empty(len(sol),dtype=float)\n",
    "\tfor j in range(len(sol)): # loop for every molecule\n",
    "\t\taux[j] = np.sqrt(frames_pos_data_T[i][j].dot(frames_pos_data_T[i][j])) # Collecting the radius distance of molecule j in frame i\n",
    "\t\n",
    "\tframes_radius_distance[i] = aux # Collecting the radius distance of all the molecules in frame i"
   ]
  },
  {
   "cell_type": "code",
   "execution_count": 185,
   "id": "3c3e7270",
   "metadata": {},
   "outputs": [
    {
     "data": {
      "text/plain": [
       "array([[5.88746927, 3.81772646, 6.36739288, ..., 7.10581517, 4.37177096,\n",
       "        7.76596545],\n",
       "       [5.88802367, 3.81846085, 6.36582067, ..., 7.10736933, 4.37085725,\n",
       "        7.76657525],\n",
       "       [5.88889596, 3.81909293, 6.36392965, ..., 7.10902589, 4.37006356,\n",
       "        7.76721626],\n",
       "       ...,\n",
       "       [5.46694594, 5.21198885, 6.34149469, ..., 8.26912716, 3.76125357,\n",
       "        9.70705275],\n",
       "       [5.46862506, 5.2141362 , 6.34236002, ..., 8.26630159, 3.76191347,\n",
       "        9.71135159],\n",
       "       [5.47028388, 5.21626167, 6.34319028, ..., 8.26347048, 3.76259828,\n",
       "        9.71567377]], shape=(687, 16))"
      ]
     },
     "execution_count": 185,
     "metadata": {},
     "output_type": "execute_result"
    }
   ],
   "source": [
    "frames_radius_distance = np.vstack(frames_radius_distance, dtype=float)\n",
    "frames_radius_distance"
   ]
  },
  {
   "cell_type": "code",
   "execution_count": 188,
   "id": "7d1c4834",
   "metadata": {},
   "outputs": [
    {
     "data": {
      "image/png": "[encoded data removed]",
      "text/plain": [
       "<Figure size 640x480 with 1 Axes>"
      ]
     },
     "metadata": {},
     "output_type": "display_data"
    }
   ],
   "source": [
    "import matplotlib.animation as animation\n",
    "from IPython.display import HTML\n",
    "\n",
    "# Requiere esto en Jupyter Notebook/VSCode\n",
    "%matplotlib inline\n",
    "\n",
    "# Crear figura\n",
    "fig, ax = plt.subplots()\n",
    "labels = [f\"Molecule {i+1}\" for i in range(len(sol))]\n",
    "x = np.arange(len(sol))\n",
    "bars = ax.bar(x, frames_radius_distance[0], tick_label=labels)\n",
    "plt.setp(ax.get_xticklabels(), rotation=90)\n",
    "ax.set_ylim(0, np.max(frames_radius_distance) * 1.1)\n",
    "ax.set_ylabel(\"Valor\")\n",
    "\n",
    "# Función de actualización\n",
    "def update(frame):\n",
    "    for bar, y in zip(bars, frames_radius_distance[frame]):\n",
    "        bar.set_height(y)\n",
    "    ax.set_title(f\"Frame {frame}\")\n",
    "    return bars\n",
    "\n",
    "# Crear animación\n",
    "anim = animation.FuncAnimation(fig, update, frames=frames_radius_distance.shape[0], interval=50, blit=False)\n",
    "\n",
    "## Mostrar animación correctamente en Jupyter en VSCode\n",
    "#HTML(anim.to_jshtml())\n",
    "ani.save(\"animacion.mp4\", writer=\"ffmpeg\", fps=10)"
   ]
  },
  {
   "cell_type": "code",
   "execution_count": 194,
   "id": "00e918a3",
   "metadata": {},
   "outputs": [],
   "source": [
    "import numpy as np\n",
    "import matplotlib.pyplot as plt\n",
    "import matplotlib.animation as animation\n",
    "\n",
    "# Crear figura\n",
    "fig, ax = plt.subplots(figsize=(12, 8))\n",
    "\n",
    "labels = [f\"Molecule {i+1}\" for i in range(len(frames_radius_distance[0]))]\n",
    "x = np.arange(len(labels))\n",
    "bars = ax.bar(x, frames_radius_distance[0], tick_label=labels)\n",
    "\n",
    "plt.setp(ax.get_xticklabels(), rotation=90)\n",
    "ax.set_ylim(0, np.max(frames_radius_distance) * 1.1)\n",
    "ax.set_ylabel(\"Radial Distance from the final CM of the mixture to each molecule\")\n",
    "\n",
    "# Función de actualización\n",
    "def update(frame):\n",
    "    y_vals = frames_radius_distance[frame]\n",
    "    for bar, y in zip(bars, y_vals):\n",
    "        bar.set_height(y)\n",
    "    ax.set_title(f\"Frame {frame}\", pad =10)\n",
    "    return bars\n",
    "\n",
    "plt.tight_layout()\n",
    "plt.subplots_adjust(top=0.88)\n",
    "# Crear animación\n",
    "ani = animation.FuncAnimation(fig, update, frames=frames_radius_distance.shape[0], interval=50, blit=False)\n",
    "\n",
    "# Guardar el video\n",
    "Writer = animation.writers['ffmpeg']\n",
    "writer = Writer(fps=10, metadata=dict(artist='Me'), bitrate=1800)\n",
    "ani.save(\"animacion.mp4\", writer=writer)\n",
    "\n",
    "plt.close(fig)  # Importante si no querés mostrar la figura estática\n",
    "\n",
    "#HTML(anim.to_jshtml())"
   ]
  }
 ],
 "metadata": {
  "kernelspec": {
   "display_name": "general",
   "language": "python",
   "name": "python3"
  },
  "language_info": {
   "codemirror_mode": {
    "name": "ipython",
    "version": 3
   },
   "file_extension": ".py",
   "mimetype": "text/x-python",
   "name": "python",
   "nbconvert_exporter": "python",
   "pygments_lexer": "ipython3",
   "version": "3.13.2"
  }
 },
 "nbformat": 4,
 "nbformat_minor": 5
}
