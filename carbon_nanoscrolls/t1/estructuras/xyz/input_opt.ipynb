{
 "cells": [
  {
   "cell_type": "code",
   "execution_count": 71,
   "id": "184f3959",
   "metadata": {},
   "outputs": [],
   "source": [
    "from ase import Atoms\n",
    "from ase.atom import Atom\n",
    "from ase.io import read, write\n",
    "from ase.visualize import view # Importa la herramienta para visualizar la estructura"
   ]
  },
  {
   "cell_type": "code",
   "execution_count": 72,
   "id": "28aaf837",
   "metadata": {},
   "outputs": [
    {
     "data": {
      "text/plain": [
       "<Popen: returncode: None args: ['/home/hernan-barquero/anaconda3/envs/genera...>"
      ]
     },
     "execution_count": 72,
     "metadata": {},
     "output_type": "execute_result"
    }
   ],
   "source": [
    "mol = read('1-Ethyl-3-methylimidazolium.xyz')\n",
    "\n",
    "mol.cell = [[20,0.0,0.0],[0.0,20,0.0],[0.0,0.0,20]]\n",
    "mol.positions[:,0] += 1\n",
    "mol.positions[:,1] += 1\n",
    "mol.positions[:,2] += 1\n",
    "mol.center()\n",
    "\n",
    "view(mol)"
   ]
  },
  {
   "cell_type": "code",
   "execution_count": 73,
   "id": "6ac75c0e",
   "metadata": {},
   "outputs": [
    {
     "data": {
      "text/plain": [
       "array([10.4104 ,  7.9867 ,  9.50215])"
      ]
     },
     "execution_count": 73,
     "metadata": {},
     "output_type": "execute_result"
    }
   ],
   "source": [
    "# Posicion del hidrogeno 10\n",
    "mol[10].position"
   ]
  },
  {
   "cell_type": "code",
   "execution_count": 74,
   "id": "7ec06916",
   "metadata": {},
   "outputs": [
    {
     "data": {
      "text/plain": [
       "array([9.5687 , 9.9674 , 9.64565])"
      ]
     },
     "metadata": {},
     "output_type": "display_data"
    },
    {
     "data": {
      "text/plain": [
       "array([11.6816 ,  9.6685 ,  9.96395])"
      ]
     },
     "metadata": {},
     "output_type": "display_data"
    }
   ],
   "source": [
    "# Posicion del Nitrogeno 0 y 1\n",
    "display(mol[0].position,mol[1].position)"
   ]
  },
  {
   "cell_type": "code",
   "execution_count": 75,
   "id": "d48436c5",
   "metadata": {},
   "outputs": [
    {
     "data": {
      "text/plain": [
       "array([[11.6816  ,  1.3747  ,  9.8048  ],\n",
       "       [10.62515 ,  4.6807  ,  9.8048  ],\n",
       "       [10.273   ,  5.7827  ,  9.8048  ],\n",
       "       [10.096925,  6.3337  ,  9.8048  ],\n",
       "       [ 9.99128 ,  6.6643  ,  9.8048  ],\n",
       "       [ 9.92085 ,  6.8847  ,  9.8048  ]])"
      ]
     },
     "execution_count": 75,
     "metadata": {},
     "output_type": "execute_result"
    }
   ],
   "source": [
    "# Array de posiciones para el cloro\n",
    "import numpy as np\n",
    "cloro_pos = np.empty((6,3))\n",
    "\n",
    "z_valor = np.mean([mol[0].position[2], mol[1].position[2]])\n",
    "x_diff = np.abs(mol[0].position[0] - mol[1].position[0])\n",
    "y_valor = 2.204 *3\n",
    "\n",
    "\n",
    "idx = np.arange(1,cloro_pos.shape[0]+1,1)\n",
    "\n",
    "cloro_pos[:,2] = z_valor\n",
    "\n",
    "cloro_pos[:,0] = mol[0].position[0] + x_diff/idx\n",
    "cloro_pos[:,1] = mol[10].position[1] - y_valor/idx\n",
    "\n",
    "cloro_pos"
   ]
  },
  {
   "cell_type": "code",
   "execution_count": 76,
   "id": "08b5d76b",
   "metadata": {},
   "outputs": [
    {
     "data": {
      "text/plain": [
       "[Atoms(symbols='N2C6H11Cl', pbc=False, cell=[20.0, 20.0, 20.0]),\n",
       " Atoms(symbols='N2C6H11Cl', pbc=False, cell=[20.0, 20.0, 20.0]),\n",
       " Atoms(symbols='N2C6H11Cl', pbc=False, cell=[20.0, 20.0, 20.0]),\n",
       " Atoms(symbols='N2C6H11Cl', pbc=False, cell=[20.0, 20.0, 20.0]),\n",
       " Atoms(symbols='N2C6H11Cl', pbc=False, cell=[20.0, 20.0, 20.0]),\n",
       " Atoms(symbols='N2C6H11Cl', pbc=False, cell=[20.0, 20.0, 20.0])]"
      ]
     },
     "execution_count": 76,
     "metadata": {},
     "output_type": "execute_result"
    }
   ],
   "source": [
    "sistemas_cloro = []\n",
    "\n",
    "for i in range(6):\n",
    "    # Copiar el sistema original (puede ser copy.deepcopy si querés independencia completa)\n",
    "    nuevo_sistema = mol.copy()\n",
    "\n",
    "    # Crear un átomo de cloro en la posición deseada\n",
    "    atomo_cl = Atom('Cl', cloro_pos[i])\n",
    "\n",
    "    # Agregar el átomo al sistema\n",
    "    nuevo_sistema.append(atomo_cl)\n",
    "\n",
    "    # Guardar el nuevo sistema\n",
    "    sistemas_cloro.append(nuevo_sistema)\n",
    "    \n",
    "sistemas_cloro"
   ]
  },
  {
   "cell_type": "code",
   "execution_count": 81,
   "id": "1af2983a",
   "metadata": {},
   "outputs": [],
   "source": [
    "for i in range(len(sistemas_cloro)):\n",
    "\t# Genera un archivo de entrada para Quantum ESPRESSO con la configuración donde el hidrógeno está sobre el átomo de carbono.\n",
    "\twrite(f\"pw{i}.in\", sistemas_cloro[i], format=\"espresso-in\", \n",
    "\t\tpseudopotentials={\n",
    "\t\t\"C\": \"C.pbe-n-kjpaw_psl.1.0.0.UPF\",  # Especifica el pseudopotencial para carbono.\n",
    "\t\t\"H\": \"H.pbe-kjpaw_psl.1.0.0.UPF\",     # Especifica el pseudopotencial para hidrógeno.\n",
    "\t\t\"N\": \"N.pbe-n-kjpaw_psl.1.0.0.UPF\",\n",
    "\t\t\"Cl\": \"Cl.pbe-n-kjpaw_psl.1.0.0.UPF\"\n",
    "\t}, input_data={\n",
    "\t\t\"control\": {\n",
    "\t\t\t\"calculation\": \"relax\",           # Indica que se hará una relajación de la estructura.\n",
    "\t\t\t\"prefix\": f\"plusCL{i}\",    # Prefijo para los archivos de salida generados por Quantum ESPRESSO.\n",
    "\t\t\t\"outdir\": \".\",             # Carpeta donde se guardarán los archivos temporales de Quantum ESPRESSO.\n",
    "\t\t\t\"pseudo_dir\": \"/home/ebarquero/practicas/pseudo\",          # Carpeta donde se encuentran los pseudopotenciales.\n",
    "\t\t\t\"tstress\": True,\n",
    "\t\t\t\"tprnfor\": True\n",
    "\t\t},\n",
    "\t\t\"system\": {\n",
    "\t\t\t\"ecutwfc\": 60,                    # Corte de energía para las funciones de onda (en Ry).\n",
    "\t\t\t\"ecutrho\": 600,                   # Corte de energía para la densidad de carga (en Ry).\n",
    "\t\t\t\"occupations\": \"smearing\",        # Usa un método de smearing para las ocupaciones electrónicas.\n",
    "\t\t\t\"smearing\": \"mp\",                 # Método de smearing: Methfessel-Paxton.\n",
    "\t\t\t\"degauss\": 0.02 ,                  # Ancho del smearing en Ry.\n",
    "\t\t\t\"ibrav\":0, \t\t\t\t\t\t\t# Define una celda generica\n",
    "\t\t},\n",
    "\t\t\"electrons\": {\n",
    "\t\t\t\"conv_thr\": 1e-6                 # Criterio de convergencia para las iteraciones electrónicas.\n",
    "\t\t}\n",
    "\t\t\n",
    "\t\t}\n",
    "\t, kpts = (1,1,1),koffset = (0,0,0))"
   ]
  },
  {
   "cell_type": "code",
   "execution_count": 79,
   "id": "3661f6dc",
   "metadata": {},
   "outputs": [],
   "source": [
    "molecule = read('pw.out')\n",
    "write('1-Ethyl-3-methylimidazolium_chloride_opt.xyz', molecule)"
   ]
  }
 ],
 "metadata": {
  "kernelspec": {
   "display_name": "general",
   "language": "python",
   "name": "python3"
  },
  "language_info": {
   "codemirror_mode": {
    "name": "ipython",
    "version": 3
   },
   "file_extension": ".py",
   "mimetype": "text/x-python",
   "name": "python",
   "nbconvert_exporter": "python",
   "pygments_lexer": "ipython3",
   "version": "3.13.2"
  }
 },
 "nbformat": 4,
 "nbformat_minor": 5
}
