{
 "cells": [
  {
   "cell_type": "code",
   "execution_count": 1,
   "id": "07b53095",
   "metadata": {},
   "outputs": [],
   "source": [
    "from ase import Atoms\n",
    "from ase.atom import Atom\n",
    "from ase.io import read, write\n",
    "from ase.visualize import view # Importa la herramienta para visualizar la estructura"
   ]
  },
  {
   "cell_type": "code",
   "execution_count": 3,
   "id": "b75cc8b7",
   "metadata": {},
   "outputs": [
    {
     "data": {
      "text/plain": [
       "<Popen: returncode: None args: ['/home/hernan-barquero/anaconda3/envs/genera...>"
      ]
     },
     "execution_count": 3,
     "metadata": {},
     "output_type": "execute_result"
    }
   ],
   "source": [
    "structure = read('pw1.out')\n",
    "view(structure)"
   ]
  },
  {
   "cell_type": "code",
   "execution_count": 5,
   "id": "6127a8b8",
   "metadata": {},
   "outputs": [],
   "source": [
    "\n",
    "write('1-Ethyl-3-methylimidazolium_chloride_opt.xyz', structure)"
   ]
  }
 ],
 "metadata": {
  "kernelspec": {
   "display_name": "general",
   "language": "python",
   "name": "python3"
  },
  "language_info": {
   "codemirror_mode": {
    "name": "ipython",
    "version": 3
   },
   "file_extension": ".py",
   "mimetype": "text/x-python",
   "name": "python",
   "nbconvert_exporter": "python",
   "pygments_lexer": "ipython3",
   "version": "3.13.2"
  }
 },
 "nbformat": 4,
 "nbformat_minor": 5
}
