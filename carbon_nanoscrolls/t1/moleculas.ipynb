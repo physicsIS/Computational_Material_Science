{
 "cells": [
  {
   "cell_type": "code",
   "execution_count": 1,
   "metadata": {},
   "outputs": [
    {
     "name": "stdout",
     "output_type": "stream",
     "text": [
      "AlCl3\n",
      "7.0\n",
      "[EMIm]Cl\n",
      "9.0\n"
     ]
    }
   ],
   "source": [
    "import numpy as np\n",
    "\n",
    "lx = 18.0 # Armstrong\n",
    "ly = 18.0 # Armstrong\n",
    "lz = 7.40 # Armstrong\n",
    "quitar = 1.8\n",
    "\n",
    "molar_mass_AlCl3 =  133.34 # g/mol\n",
    "density_AlCl3 = 2.48 * 1/(10**24)#g/A^3\n",
    "\n",
    "molar_mass_EMIm_Cl = 146.62 # g/mol\n",
    "density_EMIm_Cl = 1.189* 1/(10**24) #g/A^3\n",
    "\n",
    "\n",
    "\n",
    "molar_mass_AlCl3_weighted = 10*molar_mass_AlCl3\n",
    "mass_EMIm_Cl_weighted = 13*molar_mass_EMIm_Cl\n",
    "\n",
    "volume =  lx*ly*lz  #(lx-1)*(ly-1)*(lz-quitar)\n",
    "\n",
    "vol_AlCl3 = molar_mass_AlCl3_weighted/density_AlCl3\n",
    "vol_EMIm_Cl = mass_EMIm_Cl_weighted/density_EMIm_Cl\n",
    "\n",
    "total_vol = vol_AlCl3 + vol_EMIm_Cl\n",
    "\n",
    "ratio_vv_AlCl3 = vol_AlCl3/total_vol\n",
    "ratio_vv_EMIm_Cl = vol_EMIm_Cl/total_vol\n",
    "\n",
    "vol_AlCl3_scale = ratio_vv_AlCl3*volume\n",
    "vol_EMIm_Cl_scale = ratio_vv_EMIm_Cl*volume\n",
    "\n",
    "mass_AlCl3_scale = vol_AlCl3_scale*density_AlCl3\n",
    "mass_EMIm_Cl_scale = vol_EMIm_Cl_scale*density_EMIm_Cl\n",
    "\n",
    "number_AlCl3_scale = (mass_AlCl3_scale/molar_mass_AlCl3)* 6.02214076e23\n",
    "number_EMIm_Cl_scale = (mass_EMIm_Cl_scale/molar_mass_EMIm_Cl)* 6.02214076e23\n",
    "\n",
    "print(\"AlCl3\")\n",
    "print(np.round(number_AlCl3_scale))\n",
    "print(\"[EMIm]Cl\")\n",
    "print(np.round(number_EMIm_Cl_scale))"
   ]
  },
  {
   "cell_type": "code",
   "execution_count": 2,
   "metadata": {},
   "outputs": [],
   "source": [
    "def generar_input_packmol(nombre_archivo, estructuras, limites_caja, tolerancia=2.0):\n",
    "\t\"\"\"\n",
    "\tGenera un archivo de entrada para Packmol.\n",
    "\t\n",
    "\tArgs:\n",
    "\t\tnombre_archivo: Nombre del archivo de salida (.inp)\n",
    "\t\testructuras: Lista de diccionarios con información de cada molécula.\n",
    "\t\t\t\t\t\tCada diccionario debe tener:\n",
    "\t\t\t\t\t\t{'archivo': 'mol.pdb', 'numero': 10, 'restricciones': 'inside box 0 0 0 30 30 30'}\n",
    "\t\tlimites_caja: Tupla (x_min, y_min, z_min, x_max, y_max, z_max) con los límites de la caja.\n",
    "\t\ttolerancia: Valor de tolerancia de distancia mínima entre moléculas.\n",
    "\t\"\"\"\n",
    "\twith open(nombre_archivo, 'w') as f:\n",
    "\t\tf.write(f\"tolerance {tolerancia}\\n\")\n",
    "\t\tf.write(\"filetype xyz\\n\")  # Puede cambiarse a xyz si se usa ese formato\n",
    "\t\tf.write(\"output sistema_final.xyz\\n\\n\")\n",
    "\t\t\n",
    "\t\tfor estructura in estructuras:\n",
    "\t\t\tf.write(\"structure {}\\n\".format(estructura['archivo']))\n",
    "\t\t\tf.write(\"  number {}\\n\".format(estructura['numero']))\n",
    "\t\t\tf.write(\"  {}\\n\".format(estructura['restricciones']))\n",
    "\t\t\tf.write(\"end structure\\n\\n\")\n",
    "\t\n",
    "\tprint(f\"Archivo {nombre_archivo}  correctamente.\")"
   ]
  },
  {
   "cell_type": "code",
   "execution_count": 3,
   "metadata": {},
   "outputs": [
    {
     "name": "stdout",
     "output_type": "stream",
     "text": [
      "Archivo mezcla.inp  correctamente.\n"
     ]
    }
   ],
   "source": [
    "moleculas = [{\"archivo\":\"estructuras/xyz/alcl3_opt.xyz\", \"numero\": int(np.round(number_AlCl3_scale)), \"restricciones\": f\"inside box 0 0 0 {lx-1.0} {ly-1.0} {lz-quitar}\"},\n",
    "\t\t\t{\"archivo\":\"estructuras/xyz/1-Ethyl-3-methylimidazolium_chloride_opt.xyz\", \"numero\": int(np.round(number_EMIm_Cl_scale)), \"restricciones\": f\"inside box 0 0 0 {lx-1.0} {ly-1.0} {lz-quitar}\"}]\n",
    "\n",
    "limites = (0,0,0,lx,ly,lz)\n",
    "generar_input_packmol(\"mezcla.inp\",moleculas, limites)"
   ]
  },
  {
   "cell_type": "code",
   "execution_count": 4,
   "metadata": {},
   "outputs": [],
   "source": [
    "from ase import Atoms\n",
    "from ase.io import read, write\n",
    "from ase.visualize import view # Importa la herramienta para visualizar la estructura\n",
    "mol = read(\"sistema_final.xyz\")\n",
    "#view(mol)"
   ]
  },
  {
   "cell_type": "code",
   "execution_count": 5,
   "metadata": {},
   "outputs": [
    {
     "data": {
      "text/plain": [
       "<Popen: returncode: None args: ['/home/hernan-barquero/anaconda3/envs/genera...>"
      ]
     },
     "execution_count": 5,
     "metadata": {},
     "output_type": "execute_result"
    }
   ],
   "source": [
    "mol.cell = [[lx,0.0,0.0],[0.0,ly,0.0],[0.0,0.0,lz]]\n",
    "mol.positions[:,0] += 1\n",
    "mol.positions[:,1] += 1\n",
    "mol.positions[:,2] += quitar\n",
    "mol.center()\n",
    "view(mol)"
   ]
  },
  {
   "cell_type": "code",
   "execution_count": null,
   "metadata": {},
   "outputs": [],
   "source": [
    "# Genera un archivo de entrada para Quantum ESPRESSO con la configuración donde el hidrógeno está sobre el átomo de carbono.\n",
    "write(\"pw.in\", mol, format=\"espresso-in\", \n",
    "\tpseudopotentials={\n",
    "\t\"C\": \"C.pbe-n-kjpaw_psl.1.0.0.UPF\",  # Especifica el pseudopotencial para carbono.\n",
    "\t\"H\": \"H.pbe-kjpaw_psl.1.0.0.UPF\",     # Especifica el pseudopotencial para hidrógeno.\n",
    "\t\"N\": \"N.pbe-n-kjpaw_psl.1.0.0.UPF\",\n",
    "\t\"Al\": \"Al.pbe-n-kjpaw_psl.1.0.0.UPF\",\n",
    "\t\"Cl\": \"Cl.pbe-n-kjpaw_psl.1.0.0.UPF\"\n",
    "}, input_data={\n",
    "\t\"control\": {\n",
    "\t\t\"calculation\": \"md\",\n",
    "\t\t\"restart_mode\": 'from_scratch',\n",
    "\t\t\"nstep\": 200,\n",
    "\t\t\"tprnfor\": True,\n",
    "\t\t\"dt\": 20,\n",
    "\t\t\"prefix\": \"elec\",    # Prefijo para los archivos de salida generados por Quantum ESPRESSO.\n",
    "\t\t\"outdir\": \".\",             # Carpeta donde se guardarán los archivos temporales de Quantum ESPRESSO.\n",
    "\t\t\"pseudo_dir\": \"/home/ebarquero/practicas/pseudo/\"          # Carpeta donde se encuentran los pseudopotenciales.\n",
    "\t},\n",
    "\t\"system\": {\n",
    "\t\t\"ecutwfc\": 50,                    # Corte de energía para las funciones de onda (en Ry).\n",
    "\t\t\"ecutrho\": 330,                   # Corte de energía para la densidad de carga (en Ry).\n",
    "\t\t\"occupations\": \"smearing\",        # Usa un método de smearing para las ocupaciones electrónicas.\n",
    "\t\t\"smearing\": \"mp\",                 # Método de smearing: Methfessel-Paxton.\n",
    "\t\t\"degauss\": 0.02 ,                  # Ancho del smearing en Ry.\n",
    "\t\t\"ibrav\":0, \t\t\t\t\t\t\t# Define una celda generica\n",
    "\t},\n",
    "\t\"electrons\": {\n",
    "\t\t\"conv_thr\": 1e-8                  # Criterio de convergencia para las iteraciones electrónicas.\n",
    "\t},\n",
    "\t\"ions\":{\n",
    "\t\t\"ion_dynamics\": \"verlet\",\n",
    "\t\t\"ion_temperature\": \"berendsen\",\n",
    "\t\t\"tempw\": 300.0\n",
    "\t}\n",
    "}, kpts = (1,1,1),koffset = (0,0,0))"
   ]
  }
 ],
 "metadata": {
  "kernelspec": {
   "display_name": "general",
   "language": "python",
   "name": "python3"
  },
  "language_info": {
   "codemirror_mode": {
    "name": "ipython",
    "version": 3
   },
   "file_extension": ".py",
   "mimetype": "text/x-python",
   "name": "python",
   "nbconvert_exporter": "python",
   "pygments_lexer": "ipython3",
   "version": "3.13.2"
  }
 },
 "nbformat": 4,
 "nbformat_minor": 2
}
