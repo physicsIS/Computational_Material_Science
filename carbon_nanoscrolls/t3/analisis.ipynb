{
 "cells": [
  {
   "cell_type": "code",
   "execution_count": 1,
   "metadata": {},
   "outputs": [
    {
     "data": {
      "text/plain": [
       "<Popen: returncode: None args: ['/home/hernan-barquero/anaconda3/envs/genera...>"
      ]
     },
     "execution_count": 1,
     "metadata": {},
     "output_type": "execute_result"
    }
   ],
   "source": [
    "from ase.io import read\n",
    "from ase.visualize import view\n",
    "atoms = read(\"pw1.out\")\n",
    "\n",
    "view(atoms)"
   ]
  },
  {
   "cell_type": "code",
   "execution_count": 79,
   "metadata": {},
   "outputs": [
    {
     "data": {
      "text/plain": [
       "{'Cl': array([ 0,  1,  2,  4,  5,  6,  8,  9, 10, 12, 13, 14, 16, 17, 18, 20, 21,\n",
       "        22, 24, 25, 26]),\n",
       " 'Al': array([ 3,  7, 11, 15, 19, 23, 27]),\n",
       " 'N': array([ 28,  29,  47,  48,  66,  67,  85,  86, 104, 105, 123, 124, 142,\n",
       "        143, 161, 162, 180, 181]),\n",
       " 'C': array([ 30,  31,  32,  33,  34,  35,  49,  50,  51,  52,  53,  54,  68,\n",
       "         69,  70,  71,  72,  73,  87,  88,  89,  90,  91,  92, 106, 107,\n",
       "        108, 109, 110, 111, 125, 126, 127, 128, 129, 130, 144, 145, 146,\n",
       "        147, 148, 149, 163, 164, 165, 166, 167, 168, 182, 183, 184, 185,\n",
       "        186, 187]),\n",
       " 'H': array([ 36,  37,  38,  39,  40,  41,  42,  43,  44,  45,  46,  55,  56,\n",
       "         57,  58,  59,  60,  61,  62,  63,  64,  65,  74,  75,  76,  77,\n",
       "         78,  79,  80,  81,  82,  83,  84,  93,  94,  95,  96,  97,  98,\n",
       "         99, 100, 101, 102, 103, 112, 113, 114, 115, 116, 117, 118, 119,\n",
       "        120, 121, 122, 131, 132, 133, 134, 135, 136, 137, 138, 139, 140,\n",
       "        141, 150, 151, 152, 153, 154, 155, 156, 157, 158, 159, 160, 169,\n",
       "        170, 171, 172, 173, 174, 175, 176, 177, 178, 179, 188, 189, 190,\n",
       "        191, 192, 193, 194, 195, 196, 197, 198])}"
      ]
     },
     "execution_count": 79,
     "metadata": {},
     "output_type": "execute_result"
    }
   ],
   "source": [
    "atoms.symbols.indices()"
   ]
  },
  {
   "cell_type": "code",
   "execution_count": 91,
   "metadata": {},
   "outputs": [],
   "source": [
    "from ase import Atoms\n",
    "import numpy as np\n",
    "\n",
    "# Identificadores de Al y Cl en el sistema\n",
    "indices_Al = atoms.symbols.indices()[\"Al\"]\n",
    "indices_Cl = atoms.symbols.indices()[\"Cl\"]\n",
    "\n",
    "# Crear un array vacío para almacenar cada molécula de AlCl3\n",
    "AlCl3_all = np.empty(len(indices_Al), dtype=object)\n",
    "\n",
    "# Iterar sobre cada índice de Al\n",
    "for i, idx_Al in enumerate(indices_Al):\n",
    "    # Obtener los tres Cl asociados al Al correspondiente\n",
    "    cl_indices = indices_Cl[i*3:(i+1)*3]\n",
    "    \n",
    "    # Crear la molécula de AlCl3 con posiciones en el espacio global (no relativo)\n",
    "    simbolos = [\"Al\"] + [\"Cl\"] * 3\n",
    "    posiciones = [atoms[idx_Al].position] + [atoms[idx].position for idx in cl_indices]\n",
    "    \n",
    "    # Crear el Atoms y asignar las posiciones originales\n",
    "    AlCl3_all[i] = Atoms(symbols=simbolos, positions=posiciones, cell=atoms.cell, pbc=atoms.pbc)\n",
    "\n",
    "\n",
    "# Identificadores de C, H y N\n",
    "indices_C = atoms.symbols.indices()[\"C\"]\n",
    "indices_H = atoms.symbols.indices()[\"H\"]\n",
    "indices_N = atoms.symbols.indices()[\"N\"]\n",
    "\n",
    "# Número de moléculas de C6H11N2 basado en los índices\n",
    "num_moleculas = len(indices_C) // 6\n",
    "\n",
    "# Crear un array vacío para almacenar cada molécula de C6H11N2\n",
    "C6H11N2_all = np.empty(num_moleculas, dtype=object)\n",
    "\n",
    "# Iterar sobre el número de moléculas encontradas\n",
    "for i in range(num_moleculas):\n",
    "    # Seleccionar los índices para cada átomo\n",
    "    c_indices = indices_C[i*6:(i+1)*6]\n",
    "    h_indices = indices_H[i*11:(i+1)*11]\n",
    "    n_indices = indices_N[i*2:(i+1)*2]\n",
    "    \n",
    "    # Construir los símbolos y las posiciones en el espacio global\n",
    "    simbolos = [\"C\"] * 6 + [\"H\"] * 11 + [\"N\"] * 2\n",
    "    posiciones = ([atoms[idx].position for idx in c_indices] + \n",
    "                 [atoms[idx].position for idx in h_indices] +\n",
    "                 [atoms[idx].position for idx in n_indices])\n",
    "    \n",
    "    # Crear el objeto Atoms para cada molécula\n",
    "    C6H11N2_all[i] = Atoms(symbols=simbolos, positions=posiciones, cell=atoms.cell, pbc=atoms.pbc)\n"
   ]
  },
  {
   "cell_type": "code",
   "execution_count": 96,
   "metadata": {},
   "outputs": [],
   "source": [
    "# Identificadores de C, H y N\n",
    "indices_C = atoms.symbols.indices()[\"C\"]\n",
    "indices_H = atoms.symbols.indices()[\"H\"]\n",
    "indices_N = atoms.symbols.indices()[\"N\"]\n",
    "\n",
    "# Número de moléculas de C6H11N2\n",
    "num_moleculas = len(indices_C) // 6\n",
    "\n",
    "# Crear un array vacío para almacenar los índices de cada molécula\n",
    "C6H11N2_indices = np.empty(num_moleculas, dtype=object)\n",
    "\n",
    "# Iterar sobre cada molécula\n",
    "for i in range(num_moleculas):\n",
    "    # Tomar los índices correspondientes\n",
    "    c_indices = list(indices_C[i*6:(i+1)*6])\n",
    "    h_indices = list(indices_H[i*11:(i+1)*11])\n",
    "    n_indices = list(indices_N[i*2:(i+1)*2])\n",
    "    \n",
    "    # Guardar los índices en una lista\n",
    "    C6H11N2_indices[i] = c_indices + h_indices + n_indices\n",
    "\n",
    "# Identificadores de Al y Cl\n",
    "indices_Al = atoms.symbols.indices()[\"Al\"]\n",
    "indices_Cl = atoms.symbols.indices()[\"Cl\"]\n",
    "\n",
    "# Número de moléculas de AlCl3\n",
    "num_moleculas = len(indices_Al)\n",
    "\n",
    "# Crear un array vacío para almacenar los índices de cada molécula de AlCl3\n",
    "AlCl3_indices = np.empty(num_moleculas, dtype=object)\n",
    "\n",
    "# Iterar sobre cada molécula\n",
    "for i, idx_Al in enumerate(indices_Al):\n",
    "    # Tomar los tres Cl asociados al Al correspondiente\n",
    "    cl_indices = indices_Cl[i*3:(i+1)*3]\n",
    "    \n",
    "    # Guardar los índices en una lista\n",
    "    AlCl3_indices[i] = [idx_Al] + list(cl_indices)\n"
   ]
  },
  {
   "cell_type": "code",
   "execution_count": 101,
   "metadata": {},
   "outputs": [
    {
     "data": {
      "text/plain": [
       "<Popen: returncode: None args: ['/home/hernan-barquero/anaconda3/envs/genera...>"
      ]
     },
     "execution_count": 101,
     "metadata": {},
     "output_type": "execute_result"
    }
   ],
   "source": [
    "view(atoms)"
   ]
  },
  {
   "cell_type": "code",
   "execution_count": 102,
   "metadata": {},
   "outputs": [
    {
     "data": {
      "text/plain": [
       "<Popen: returncode: None args: ['/home/hernan-barquero/anaconda3/envs/genera...>"
      ]
     },
     "execution_count": 102,
     "metadata": {},
     "output_type": "execute_result"
    }
   ],
   "source": [
    "AlCl3_indices[3]\n",
    "view(atoms[15,12,13,14])"
   ]
  },
  {
   "cell_type": "code",
   "execution_count": 2,
   "metadata": {},
   "outputs": [
    {
     "data": {
      "text/plain": [
       "Cell([17.999999784550294, 17.999999784550294, 7.399997911426256])"
      ]
     },
     "execution_count": 2,
     "metadata": {},
     "output_type": "execute_result"
    }
   ],
   "source": [
    "atoms.get_cell()"
   ]
  },
  {
   "cell_type": "code",
   "execution_count": 3,
   "metadata": {},
   "outputs": [
    {
     "data": {
      "text/plain": [
       "array([9.76520161, 9.24159229, 3.56338806])"
      ]
     },
     "execution_count": 3,
     "metadata": {},
     "output_type": "execute_result"
    }
   ],
   "source": [
    "atoms.get_center_of_mass()"
   ]
  },
  {
   "cell_type": "code",
   "execution_count": 10,
   "metadata": {},
   "outputs": [],
   "source": [
    "from ase.io import read, write\n",
    "\n",
    "atoms = read('pw1.out')\n",
    "write('pw1.xyz', atoms, format='xyz')"
   ]
  }
 ],
 "metadata": {
  "kernelspec": {
   "display_name": "general",
   "language": "python",
   "name": "python3"
  },
  "language_info": {
   "codemirror_mode": {
    "name": "ipython",
    "version": 3
   },
   "file_extension": ".py",
   "mimetype": "text/x-python",
   "name": "python",
   "nbconvert_exporter": "python",
   "pygments_lexer": "ipython3",
   "version": "3.13.2"
  }
 },
 "nbformat": 4,
 "nbformat_minor": 2
}
