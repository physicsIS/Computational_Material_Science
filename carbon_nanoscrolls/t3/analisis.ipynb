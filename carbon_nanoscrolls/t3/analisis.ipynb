{
 "cells": [
  {
   "cell_type": "code",
   "execution_count": 1,
   "metadata": {},
   "outputs": [
    {
     "data": {
      "text/plain": [
       "<Popen: returncode: None args: ['/home/hernan-barquero/anaconda3/envs/genera...>"
      ]
     },
     "execution_count": 1,
     "metadata": {},
     "output_type": "execute_result"
    }
   ],
   "source": [
    "from ase.io import read\n",
    "from ase.visualize import view\n",
    "from funciones import get_molecules\n",
    "atoms = read(\"pw.out\")\n",
    "\n",
    "view(atoms)"
   ]
  },
  {
   "cell_type": "code",
   "execution_count": 2,
   "metadata": {},
   "outputs": [],
   "source": [
    "from ase import Atoms\n",
    "import numpy as np\n",
    "\n",
    "# Identificadores de Al y Cl en el sistema\n",
    "indices_Al = atoms.symbols.indices()[\"Al\"]\n",
    "indices_Cl = atoms.symbols.indices()[\"Cl\"]\n",
    "\n",
    "# Crear un array vacío para almacenar cada molécula de AlCl3\n",
    "AlCl3_all = np.empty(len(indices_Al), dtype=object)\n",
    "\n",
    "# Iterar sobre cada índice de Al\n",
    "for i, idx_Al in enumerate(indices_Al):\n",
    "    # Obtener los tres Cl asociados al Al correspondiente\n",
    "    cl_indices = indices_Cl[i*3:(i+1)*3]\n",
    "    \n",
    "    # Crear la molécula de AlCl3 con posiciones en el espacio global (no relativo)\n",
    "    simbolos = [\"Al\"] + [\"Cl\"] * 3\n",
    "    posiciones = [atoms[idx_Al].position] + [atoms[idx].position for idx in cl_indices]\n",
    "    \n",
    "    # Crear el Atoms y asignar las posiciones originales\n",
    "    AlCl3_all[i] = Atoms(symbols=simbolos, positions=posiciones, cell=atoms.cell, pbc=atoms.pbc)\n",
    "\n",
    "\n",
    "# Identificadores de C, H y N\n",
    "indices_C = atoms.symbols.indices()[\"C\"]\n",
    "indices_H = atoms.symbols.indices()[\"H\"]\n",
    "indices_N = atoms.symbols.indices()[\"N\"]\n",
    "\n",
    "# Número de moléculas de C6H11N2 basado en los índices\n",
    "num_moleculas = len(indices_C) // 6\n",
    "\n",
    "# Crear un array vacío para almacenar cada molécula de C6H11N2\n",
    "C6H11N2_all = np.empty(num_moleculas, dtype=object)\n",
    "\n",
    "# Iterar sobre el número de moléculas encontradas\n",
    "for i in range(num_moleculas):\n",
    "    # Seleccionar los índices para cada átomo\n",
    "    c_indices = indices_C[i*6:(i+1)*6]\n",
    "    h_indices = indices_H[i*11:(i+1)*11]\n",
    "    n_indices = indices_N[i*2:(i+1)*2]\n",
    "    \n",
    "    # Construir los símbolos y las posiciones en el espacio global\n",
    "    simbolos = [\"C\"] * 6 + [\"H\"] * 11 + [\"N\"] * 2\n",
    "    posiciones = ([atoms[idx].position for idx in c_indices] + \n",
    "                 [atoms[idx].position for idx in h_indices] +\n",
    "                 [atoms[idx].position for idx in n_indices])\n",
    "    \n",
    "    # Crear el objeto Atoms para cada molécula\n",
    "    C6H11N2_all[i] = Atoms(symbols=simbolos, positions=posiciones, cell=atoms.cell, pbc=atoms.pbc)\n"
   ]
  },
  {
   "cell_type": "code",
   "execution_count": 3,
   "metadata": {},
   "outputs": [],
   "source": [
    "# Identificadores de C, H y N\n",
    "indices_C = atoms.symbols.indices()[\"C\"]\n",
    "indices_H = atoms.symbols.indices()[\"H\"]\n",
    "indices_N = atoms.symbols.indices()[\"N\"]\n",
    "\n",
    "# Número de moléculas de C6H11N2\n",
    "num_moleculas = len(indices_C) // 6\n",
    "\n",
    "# Crear un array vacío para almacenar los índices de cada molécula\n",
    "C6H11N2_indices = np.empty(num_moleculas, dtype=object)\n",
    "\n",
    "# Iterar sobre cada molécula\n",
    "for i in range(num_moleculas):\n",
    "    # Tomar los índices correspondientes\n",
    "    c_indices = list(indices_C[i*6:(i+1)*6])\n",
    "    h_indices = list(indices_H[i*11:(i+1)*11])\n",
    "    n_indices = list(indices_N[i*2:(i+1)*2])\n",
    "    \n",
    "    # Guardar los índices en una lista\n",
    "    C6H11N2_indices[i] = c_indices + h_indices + n_indices\n",
    "\n",
    "# Identificadores de Al y Cl\n",
    "indices_Al = atoms.symbols.indices()[\"Al\"]\n",
    "indices_Cl = atoms.symbols.indices()[\"Cl\"]\n",
    "\n",
    "# Número de moléculas de AlCl3\n",
    "num_moleculas = len(indices_Al)\n",
    "\n",
    "# Crear un array vacío para almacenar los índices de cada molécula de AlCl3\n",
    "AlCl3_indices = np.empty(num_moleculas, dtype=object)\n",
    "\n",
    "# Iterar sobre cada molécula\n",
    "for i, idx_Al in enumerate(indices_Al):\n",
    "    # Tomar los tres Cl asociados al Al correspondiente\n",
    "    cl_indices = indices_Cl[i*3:(i+1)*3]\n",
    "    \n",
    "    # Guardar los índices en una lista\n",
    "    AlCl3_indices[i] = [idx_Al] + list(cl_indices)\n"
   ]
  },
  {
   "cell_type": "code",
   "execution_count": 4,
   "metadata": {},
   "outputs": [],
   "source": [
    "sol = get_molecules([\"alcl3_opt.xyz\", \"1-Ethyl-3-methylimidazolium_chloride_opt.xyz\"], \"pw.out\")"
   ]
  },
  {
   "cell_type": "code",
   "execution_count": 5,
   "metadata": {},
   "outputs": [
    {
     "data": {
      "text/plain": [
       "[0, 1, 2, 3]"
      ]
     },
     "execution_count": 5,
     "metadata": {},
     "output_type": "execute_result"
    }
   ],
   "source": [
    "sol[0].idx_list"
   ]
  },
  {
   "cell_type": "code",
   "execution_count": 6,
   "metadata": {},
   "outputs": [
    {
     "data": {
      "text/plain": [
       "np.float64(1.7108241537061073)"
      ]
     },
     "execution_count": 6,
     "metadata": {},
     "output_type": "execute_result"
    }
   ],
   "source": [
    "center_of_masses = []\n",
    "for i in range(len(sol)):\n",
    "\tcenter_of_masses.append(atoms.get_center_of_mass(scaled=False,indices= sol[i].idx_list))\n",
    "\n",
    "center_of_masses[0][0]"
   ]
  },
  {
   "cell_type": "code",
   "execution_count": 7,
   "metadata": {},
   "outputs": [],
   "source": [
    "all_center_of_mass = atoms.get_center_of_mass(scaled=False)"
   ]
  },
  {
   "cell_type": "code",
   "execution_count": 8,
   "metadata": {},
   "outputs": [],
   "source": [
    "center_of_masses_T = center_of_masses - all_center_of_mass"
   ]
  },
  {
   "cell_type": "code",
   "execution_count": 9,
   "metadata": {},
   "outputs": [
    {
     "data": {
      "text/plain": [
       "[np.float64(8.401678424214568),\n",
       " np.float64(3.6946812304015677),\n",
       " np.float64(4.512435198895137),\n",
       " np.float64(5.563683078588444),\n",
       " np.float64(6.886386990930103),\n",
       " np.float64(9.885621568463252),\n",
       " np.float64(4.508150926671006),\n",
       " np.float64(8.412588392358774),\n",
       " np.float64(9.083982606586565),\n",
       " np.float64(4.522732691394216),\n",
       " np.float64(8.201431158211761),\n",
       " np.float64(9.28043799809422),\n",
       " np.float64(6.041308929351049),\n",
       " np.float64(5.1254164431234415),\n",
       " np.float64(6.542752524265704),\n",
       " np.float64(7.126052823016811)]"
      ]
     },
     "execution_count": 9,
     "metadata": {},
     "output_type": "execute_result"
    }
   ],
   "source": [
    "# Distancia radial al centro de masa de la mezcla donde se encuentran los centros de masa de las moleculas individuales\n",
    "radius = []\n",
    "for i in range(len(center_of_masses_T)):\n",
    "\taux = np.sqrt(center_of_masses_T[i][0]**2 +center_of_masses_T[i][1]**2 +center_of_masses_T[i][2]**2)\n",
    "\tradius.append(aux)\n",
    "\n",
    "radius"
   ]
  },
  {
   "cell_type": "code",
   "execution_count": 10,
   "metadata": {},
   "outputs": [
    {
     "data": {
      "image/png": "[encoded data removed]",
      "text/plain": [
       "<Figure size 800x500 with 1 Axes>"
      ]
     },
     "metadata": {},
     "output_type": "display_data"
    }
   ],
   "source": [
    "import matplotlib.pyplot as plt\n",
    "\n",
    "x = np.linspace(np.min(radius), np.max(radius), len(radius))\n",
    "\n",
    "fig, ax = plt.subplots(1,1, figsize = (8,5))\n",
    "\n",
    "ax.hist(radius, bins=25,align='mid', rwidth=0.5)\n",
    "ax.set_xlabel(\"Distancia radial [A°]\")\n",
    "ax.set_ylabel(\"Frecuencia\")\n",
    "ax.grid()\n",
    "ax.set_title(\"Distancia radial desde el centro de masa de la mezcla al centro de masa de cada mólecula\")\n",
    "plt.savefig(\"prueba.png\")"
   ]
  }
 ],
 "metadata": {
  "kernelspec": {
   "display_name": "general",
   "language": "python",
   "name": "python3"
  },
  "language_info": {
   "codemirror_mode": {
    "name": "ipython",
    "version": 3
   },
   "file_extension": ".py",
   "mimetype": "text/x-python",
   "name": "python",
   "nbconvert_exporter": "python",
   "pygments_lexer": "ipython3",
   "version": "3.13.2"
  }
 },
 "nbformat": 4,
 "nbformat_minor": 2
}
